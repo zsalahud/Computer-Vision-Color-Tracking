{
 "cells": [
  {
   "cell_type": "code",
   "execution_count": 19,
   "metadata": {},
   "outputs": [
    {
     "data": {
      "text/plain": [
       "True"
      ]
     },
     "execution_count": 19,
     "metadata": {},
     "output_type": "execute_result"
    }
   ],
   "source": [
    "import cv2\n",
    "\n",
    "img = cv2.imread(\"shield.jpg\", 1)\n",
    "\n",
    "hsv = cv2.cvtColor(img, cv2.COLOR_BGR2HSV)\n",
    "\n",
    "mask1 = cv2.inRange(hsv, (0, 0, 0), (120, 255,255))\n",
    "\n",
    "mask10 = cv2.inRange(hsv, (120, 0, 0), (170,255,255))\n",
    "\n",
    "mask = cv2.bitwise_or(mask1, mask10)\n",
    "\n",
    "target = cv2.bitwise_and(img,img, mask=mask)\n",
    "\n",
    "cv2.imwrite(\"new_shield.png\", target)"
   ]
  },
  {
   "cell_type": "code",
   "execution_count": null,
   "metadata": {},
   "outputs": [],
   "source": []
  }
 ],
 "metadata": {
  "kernelspec": {
   "display_name": "Python 3",
   "language": "python",
   "name": "python3"
  },
  "language_info": {
   "codemirror_mode": {
    "name": "ipython",
    "version": 3
   },
   "file_extension": ".py",
   "mimetype": "text/x-python",
   "name": "python",
   "nbconvert_exporter": "python",
   "pygments_lexer": "ipython3",
   "version": "3.6.5"
  }
 },
 "nbformat": 4,
 "nbformat_minor": 2
}
