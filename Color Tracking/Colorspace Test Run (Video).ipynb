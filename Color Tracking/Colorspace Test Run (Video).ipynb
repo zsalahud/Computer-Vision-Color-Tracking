{
 "cells": [
  {
   "cell_type": "code",
   "execution_count": 15,
   "metadata": {},
   "outputs": [],
   "source": [
    "import cv2\n",
    "import numpy as np\n",
    "\n",
    "cap = cv2.VideoCapture('test_video.mp4')\n",
    "\n",
    "if (cap.isOpened()== False): \n",
    "  print(\"Error opening video stream or file\")\n",
    "\n",
    "while(cap.isOpened()):\n",
    "\n",
    "    ret, frame = cap.read()\n",
    "\n",
    "    \n",
    "    hsv = cv2.cvtColor(frame, cv2.COLOR_BGR2HSV)\n",
    "\n",
    "    \n",
    "    lower_range1 = np.array([0,0,0])\n",
    "    upper_range1 = np.array([115,255,255])\n",
    "\n",
    "    lower_range2 = np.array([130,0, 0])\n",
    "    upper_range2 = np.array([178, 255, 255]) \n",
    "    mask1 = cv2.inRange(hsv, lower_range1, upper_range1)\n",
    "\n",
    "    \n",
    "    mask2 = cv2.inRange(hsv, lower_range2, upper_range2)\n",
    "    mask = mask1 + mask2\n",
    "\n",
    "    \n",
    "    res = cv2.bitwise_and(frame,frame, mask= mask)\n",
    "\n",
    "    if ret == True:\n",
    "        cv2.namedWindow('frame', cv2.WINDOW_NORMAL)\n",
    "        cv2.imshow('frame',frame)\n",
    "        cv2.namedWindow('mask', cv2.WINDOW_NORMAL)\n",
    "        cv2.imshow('mask',mask)\n",
    "        cv2.namedWindow('res', cv2.WINDOW_NORMAL)\n",
    "        cv2.imshow('res',res)\n",
    "    \n",
    "        if cv2.waitKey(25) & 0xFF == ord('q'):\n",
    "            break\n",
    "    else:\n",
    "        break\n",
    "        \n",
    "cap.release()\n",
    "cv2.destroyAllWindows()"
   ]
  },
  {
   "cell_type": "code",
   "execution_count": null,
   "metadata": {},
   "outputs": [],
   "source": []
  }
 ],
 "metadata": {
  "kernelspec": {
   "display_name": "Python 3",
   "language": "python",
   "name": "python3"
  },
  "language_info": {
   "codemirror_mode": {
    "name": "ipython",
    "version": 3
   },
   "file_extension": ".py",
   "mimetype": "text/x-python",
   "name": "python",
   "nbconvert_exporter": "python",
   "pygments_lexer": "ipython3",
   "version": "3.6.5"
  }
 },
 "nbformat": 4,
 "nbformat_minor": 2
}
