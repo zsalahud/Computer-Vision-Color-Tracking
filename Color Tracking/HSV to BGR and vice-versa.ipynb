{
 "cells": [
  {
   "cell_type": "code",
   "execution_count": 1,
   "metadata": {},
   "outputs": [
    {
     "name": "stdout",
     "output_type": "stream",
     "text": [
      "[[[  0 255 255]]]\n"
     ]
    }
   ],
   "source": [
    "import cv2\n",
    "import numpy as np\n",
    "\n",
    "red = np.uint8([[[0,0,255]]])\n",
    "hsv_red = cv2.cvtColor(red,cv2.COLOR_BGR2HSV)\n",
    "print(hsv_red)"
   ]
  },
  {
   "cell_type": "code",
   "execution_count": 2,
   "metadata": {},
   "outputs": [
    {
     "name": "stdout",
     "output_type": "stream",
     "text": [
      "[[[  1 154 139]]]\n"
     ]
    }
   ],
   "source": [
    "one = np.uint8([[[55, 57, 139]]])\n",
    "hsv_one = cv2.cvtColor(one, cv2.COLOR_BGR2HSV)\n",
    "print(hsv_one)"
   ]
  },
  {
   "cell_type": "code",
   "execution_count": 3,
   "metadata": {},
   "outputs": [
    {
     "name": "stdout",
     "output_type": "stream",
     "text": [
      "[[[ 26 204 166]]]\n"
     ]
    }
   ],
   "source": [
    "two = np.uint8([[[33, 147, 166]]])\n",
    "hsv_two = cv2.cvtColor(two, cv2.COLOR_BGR2HSV)\n",
    "print(hsv_two)"
   ]
  },
  {
   "cell_type": "code",
   "execution_count": 4,
   "metadata": {},
   "outputs": [
    {
     "name": "stdout",
     "output_type": "stream",
     "text": [
      "[[[ 52 198 102]]]\n"
     ]
    }
   ],
   "source": [
    "three = np.uint8([[[23, 102, 44]]])\n",
    "hsv_three = cv2.cvtColor(three, cv2.COLOR_BGR2HSV)\n",
    "print(hsv_three)"
   ]
  },
  {
   "cell_type": "code",
   "execution_count": 5,
   "metadata": {},
   "outputs": [
    {
     "name": "stdout",
     "output_type": "stream",
     "text": [
      "[[[ 67 236  81]]]\n"
     ]
    }
   ],
   "source": [
    "four = np.uint8([[[23, 81, 6]]])\n",
    "hsv_four = cv2.cvtColor(four, cv2.COLOR_BGR2HSV)\n",
    "print(hsv_four)"
   ]
  },
  {
   "cell_type": "code",
   "execution_count": 6,
   "metadata": {},
   "outputs": [
    {
     "name": "stdout",
     "output_type": "stream",
     "text": [
      "[[[ 67 158  97]]]\n"
     ]
    }
   ],
   "source": [
    "five = np.uint8([[[51,97,37]]])\n",
    "hsv_five = cv2.cvtColor(five, cv2.COLOR_BGR2HSV)\n",
    "print(hsv_five)"
   ]
  },
  {
   "cell_type": "code",
   "execution_count": 7,
   "metadata": {},
   "outputs": [
    {
     "name": "stdout",
     "output_type": "stream",
     "text": [
      "[[[ 98 241  91]]]\n"
     ]
    }
   ],
   "source": [
    "six = np.uint8([[[91,69,5]]])\n",
    "hsv_six = cv2.cvtColor(six, cv2.COLOR_BGR2HSV)\n",
    "print(hsv_six)"
   ]
  },
  {
   "cell_type": "code",
   "execution_count": 8,
   "metadata": {},
   "outputs": [
    {
     "name": "stdout",
     "output_type": "stream",
     "text": [
      "[[[113 213 109]]]\n"
     ]
    }
   ],
   "source": [
    "seven = np.uint8([[[109, 38, 18]]])\n",
    "hsv_seven = cv2.cvtColor(seven, cv2.COLOR_BGR2HSV)\n",
    "print(hsv_seven)"
   ]
  },
  {
   "cell_type": "code",
   "execution_count": 9,
   "metadata": {},
   "outputs": [
    {
     "name": "stdout",
     "output_type": "stream",
     "text": [
      "[[[135 165  85]]]\n"
     ]
    }
   ],
   "source": [
    "eight = np.uint8([[[85, 30, 58]]])\n",
    "hsv_eight = cv2.cvtColor(eight, cv2.COLOR_BGR2HSV)\n",
    "print(hsv_eight)"
   ]
  },
  {
   "cell_type": "code",
   "execution_count": 10,
   "metadata": {},
   "outputs": [
    {
     "name": "stdout",
     "output_type": "stream",
     "text": [
      "[[[166 199 114]]]\n"
     ]
    }
   ],
   "source": [
    "nine = np.uint8([[[68, 25, 114]]])\n",
    "hsv_nine = cv2.cvtColor(nine, cv2.COLOR_BGR2HSV)\n",
    "print(hsv_nine)"
   ]
  },
  {
   "cell_type": "code",
   "execution_count": 11,
   "metadata": {},
   "outputs": [
    {
     "name": "stdout",
     "output_type": "stream",
     "text": [
      "[[[174 171 116]]]\n"
     ]
    }
   ],
   "source": [
    "ten = np.uint8([[[54, 38, 116]]])\n",
    "hsv_ten = cv2.cvtColor(ten, cv2.COLOR_BGR2HSV)\n",
    "print(hsv_ten)"
   ]
  },
  {
   "cell_type": "code",
   "execution_count": 2,
   "metadata": {},
   "outputs": [
    {
     "name": "stdout",
     "output_type": "stream",
     "text": [
      "[[[113 251  63]]]\n"
     ]
    }
   ],
   "source": [
    "cap = np.uint8([[[63, 15, 1]]])\n",
    "hsv_cap = cv2.cvtColor(cap, cv2.COLOR_BGR2HSV)\n",
    "print(hsv_cap)"
   ]
  },
  {
   "cell_type": "code",
   "execution_count": null,
   "metadata": {},
   "outputs": [],
   "source": []
  }
 ],
 "metadata": {
  "kernelspec": {
   "display_name": "Python 3",
   "language": "python",
   "name": "python3"
  },
  "language_info": {
   "codemirror_mode": {
    "name": "ipython",
    "version": 3
   },
   "file_extension": ".py",
   "mimetype": "text/x-python",
   "name": "python",
   "nbconvert_exporter": "python",
   "pygments_lexer": "ipython3",
   "version": "3.6.5"
  }
 },
 "nbformat": 4,
 "nbformat_minor": 2
}
